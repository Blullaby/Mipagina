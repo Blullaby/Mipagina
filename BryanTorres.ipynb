{
  "nbformat": 4,
  "nbformat_minor": 0,
  "metadata": {
    "colab": {
      "provenance": [],
      "authorship_tag": "ABX9TyOTqCFRKSxcTTsKEHaxey/Q",
      "include_colab_link": true
    },
    "kernelspec": {
      "name": "python3",
      "display_name": "Python 3"
    },
    "language_info": {
      "name": "python"
    }
  },
  "cells": [
    {
      "cell_type": "markdown",
      "metadata": {
        "id": "view-in-github",
        "colab_type": "text"
      },
      "source": [
        "<a href=\"https://colab.research.google.com/github/Blullaby/Mipagina/blob/main/BryanTorres.ipynb\" target=\"_parent\"><img src=\"https://colab.research.google.com/assets/colab-badge.svg\" alt=\"Open In Colab\"/></a>"
      ]
    },
    {
      "cell_type": "code",
      "execution_count": 10,
      "metadata": {
        "colab": {
          "base_uri": "https://localhost:8080/"
        },
        "id": "OCRSCxfmBCHJ",
        "outputId": "fc33870e-acbf-4d5c-8c17-9bbf3f13544f"
      },
      "outputs": [
        {
          "output_type": "stream",
          "name": "stdout",
          "text": [
            "Epoch 1000/10000, Error: 0.2503969147976961\n",
            "Epoch 2000/10000, Error: 0.25039691478459797\n",
            "Epoch 3000/10000, Error: 0.25039691478459797\n",
            "Epoch 4000/10000, Error: 0.25039691478459797\n",
            "Epoch 5000/10000, Error: 0.25039691478459797\n",
            "Epoch 6000/10000, Error: 0.25039691478459797\n",
            "Epoch 7000/10000, Error: 0.25039691478459797\n",
            "Epoch 8000/10000, Error: 0.25039691478459797\n",
            "Epoch 9000/10000, Error: 0.25039691478459797\n",
            "Epoch 10000/10000, Error: 0.25039691478459797\n",
            "Predicciones después del entrenamiento:\n",
            "Entrada: [0 0], Salida: 0.5161\n",
            "Entrada: [0 1], Salida: 0.5000\n",
            "Entrada: [1 0], Salida: 0.4839\n",
            "Entrada: [1 1], Salida: 0.4678\n"
          ]
        }
      ],
      "source": [
        "#Bryan Jhosep Torres Cuyo\n",
        "#Perceptron\n",
        "import numpy as np\n",
        "\n",
        "# Función de activación (sigmoide)\n",
        "def sigmoid(x):\n",
        "    return 1 / (1 + np.exp(-x))\n",
        "\n",
        "# Derivada de la función de activación (para retropropagación)\n",
        "def sigmoid_derivative(x):\n",
        "    return x * (1 - x)\n",
        "\n",
        "# Algoritmo de entrenamiento\n",
        "class SimpleNeuron:\n",
        "    def __init__(self, input_size, learning_rate=0.1):\n",
        "        # Inicializar pesos y umbral aleatoriamente entre -1 y 1\n",
        "        self.weights = np.random.uniform(-1, 1, input_size)\n",
        "        self.bias = np.random.uniform(-1, 1)\n",
        "        self.learning_rate = learning_rate\n",
        "\n",
        "    def forward(self, X):\n",
        "        # Propagación: calcular salida de la neurona\n",
        "        weighted_sum = np.dot(X, self.weights) - self.bias\n",
        "        return sigmoid(weighted_sum)\n",
        "\n",
        "    def train(self, X, D, epochs, report_interval=1000):\n",
        "        for epoch in range(epochs):\n",
        "            for x, d in zip(X, D):\n",
        "                # Paso 3: Propagar la entrada y calcular la salida\n",
        "                y = self.forward(x)\n",
        "\n",
        "                # Paso 4: Calcular el error\n",
        "                error = d - y\n",
        "\n",
        "                # Paso 5: Retropropagación para ajustar los pesos y el umbral\n",
        "                self.weights += self.learning_rate * error * sigmoid_derivative(y) * x\n",
        "                self.bias -= self.learning_rate * error * sigmoid_derivative(y)\n",
        "\n",
        "            # Imprimir el error cada 'report_interval' épocas para seguimiento\n",
        "            if (epoch + 1) % report_interval == 0:\n",
        "                total_error = sum((d - self.forward(x)) ** 2 for x, d in zip(X, D)) / len(D)\n",
        "                print(f\"Epoch {epoch + 1}/{epochs}, Error: {total_error}\")\n",
        "\n",
        "# Datos de entrenamiento (Ejemplo)\n",
        "X = np.array([[0, 0], [0, 1], [1, 0], [1, 1]])  # Entradas\n",
        "D = np.array([0, 1, 1, 0])  # Salidas deseadas (XOR)\n",
        "\n",
        "# Parámetros del modelo\n",
        "learning_rate = 0.5\n",
        "epochs = 10000\n",
        "\n",
        "# Crear y entrenar la neurona\n",
        "neuron = SimpleNeuron(input_size=2, learning_rate=learning_rate)\n",
        "neuron.train(X, D, epochs, report_interval=1000)  # Reporta cada 1000 épocas\n",
        "\n",
        "# Prueba de predicciones\n",
        "print(\"Predicciones después del entrenamiento:\")\n",
        "for x in X:\n",
        "    print(f\"Entrada: {x}, Salida: {neuron.forward(x):.4f}\")\n"
      ]
    },
    {
      "cell_type": "code",
      "source": [],
      "metadata": {
        "id": "nC0BNHe4QzZY"
      },
      "execution_count": null,
      "outputs": []
    }
  ]
}